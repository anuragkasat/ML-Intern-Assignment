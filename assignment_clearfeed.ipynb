{
  "nbformat": 4,
  "nbformat_minor": 0,
  "metadata": {
    "colab": {
      "provenance": []
    },
    "kernelspec": {
      "name": "python3",
      "display_name": "Python 3"
    },
    "language_info": {
      "name": "python"
    }
  },
  "cells": [
    {
      "cell_type": "code",
      "execution_count": 10,
      "metadata": {
        "id": "z6HMQOtPgfTf"
      },
      "outputs": [],
      "source": [
        "import pandas as pd\n",
        "import json\n",
        "\n",
        "# Load CSV file (questions and URLs)\n",
        "qa_data = pd.read_csv('clearfeed_qa_pairs.csv')\n",
        "\n",
        "# Load JSON file (documentation content)\n",
        "with open('Clearfeed_kb.json', 'r') as file:\n",
        "    docs_data = json.load(file)\n",
        "\n",
        "# Convert JSON into a DataFrame for easier processing\n",
        "docs_df = pd.DataFrame([{'url': url, 'title': content['title'], 'text': content['text']}\n",
        "                        for url, content in docs_data.items()])\n"
      ]
    },
    {
      "cell_type": "code",
      "source": [
        "from sklearn.feature_extraction.text import TfidfVectorizer\n",
        "from sklearn.metrics.pairwise import cosine_similarity\n",
        "import re\n",
        "\n",
        "# Clean text\n",
        "def clean_text(text):\n",
        "    text = re.sub(r'\\s+', ' ', text)  # Remove excessive spaces\n",
        "    text = re.sub(r'[^\\w\\s]', '', text)  # Remove punctuation\n",
        "    return text.lower()\n",
        "\n",
        "# Apply preprocessing to documentation\n",
        "docs_df['clean_text'] = docs_df['text'].apply(clean_text)\n"
      ],
      "metadata": {
        "id": "g3VyXlgUgv_V"
      },
      "execution_count": 11,
      "outputs": []
    },
    {
      "cell_type": "code",
      "source": [
        "# Vectorize documentation text\n",
        "vectorizer = TfidfVectorizer()\n",
        "doc_vectors = vectorizer.fit_transform(docs_df['clean_text'])\n",
        "\n",
        "# Function to get top 5 similar documents for a query\n",
        "\n",
        "def search_top_k(query, k=5):\n",
        "    query_vector = vectorizer.transform([clean_text(query)])  # Transform query into vector\n",
        "    similarities = cosine_similarity(query_vector, doc_vectors).flatten()  # Compute cosine similarities\n",
        "    top_k_indices = similarities.argsort()[-k:][::-1]  # Get indices of top K matches\n",
        "\n",
        "    # Retrieve top K URLs and details\n",
        "    top_k_results = docs_df.iloc[top_k_indices][['url', 'title', 'text']]\n",
        "    return top_k_results\n",
        "\n"
      ],
      "metadata": {
        "id": "Xf73cVKUgw7x"
      },
      "execution_count": 12,
      "outputs": []
    },
    {
      "cell_type": "code",
      "source": [
        "# Example usage\n",
        "query = \"How can I integrate Slack with Clearfeed?\"\n",
        "top_results = search_top_k(query)\n",
        "\n",
        "# Display the top 5 URLs with their titles\n",
        "print(\"Top 5 Results:\")\n",
        "for i, row in top_results.iterrows():\n",
        "    print(f\"{i + 1}. {row['title']} - {row['url']}\")\n"
      ],
      "metadata": {
        "colab": {
          "base_uri": "https://localhost:8080/"
        },
        "id": "9lqETOFYjtR0",
        "outputId": "f8d8abd3-d1e1-4c71-89dc-a5c7962a92f6"
      },
      "execution_count": 17,
      "outputs": [
        {
          "output_type": "stream",
          "name": "stdout",
          "text": [
            "Top 5 Results:\n",
            "87. For existing ClearFeed<>Slack users - https://docs.clearfeed.ai/clearfeed-help-center/getting-started/using-clearfeed-with-microsoft-teams/integrate-clearfeed-with-ms-teams/for-existing-clearfeed-less-than-greater-than-slack-users\n",
            "10. Integration With Slack - https://docs.clearfeed.ai/clearfeed-help-center/getting-started/integration-with-slack\n",
            "4. Slack <> Ticketing Integration - https://docs.clearfeed.ai/clearfeed-help-center/getting-started/for-customer-support/integrate-slack-and-external-ticketing-system\n",
            "19. Integrate Clearfeed With Ms Teams - https://docs.clearfeed.ai/clearfeed-help-center/getting-started/using-clearfeed-with-microsoft-teams/integrate-clearfeed-with-ms-teams\n",
            "61. Slack <> Ticketing Integration - https://docs.clearfeed.ai/clearfeed-help-center/getting-started/for-internal-support/integrate-slack-and-internal-ticketing-systems\n"
          ]
        }
      ]
    },
    {
      "cell_type": "code",
      "source": [
        "# Evaluate search by checking if the target URL appears in the top 5 results\n",
        "def evaluate_system():\n",
        "    correct_predictions = 0\n",
        "    for i, row in qa_data.iterrows():\n",
        "        query = row['question']\n",
        "        target_url = row['url']\n",
        "        results = search_top_k(query)\n",
        "        if target_url in results['url'].values:\n",
        "            correct_predictions += 1\n",
        "\n",
        "    accuracy = correct_predictions / len(qa_data)\n",
        "    print(f\"Search System Accuracy: {accuracy:.2%}\")\n",
        "\n",
        "# Run evaluation\n",
        "evaluate_system()\n"
      ],
      "metadata": {
        "colab": {
          "base_uri": "https://localhost:8080/"
        },
        "id": "fpp_7kbug1Ez",
        "outputId": "8f1eeeb5-2466-48f2-f809-afb866d271a8"
      },
      "execution_count": 13,
      "outputs": [
        {
          "output_type": "stream",
          "name": "stdout",
          "text": [
            "Search System Accuracy: 90.70%\n"
          ]
        }
      ]
    },
    {
      "cell_type": "code",
      "source": [
        "from transformers import pipeline\n",
        "\n",
        "# Load pre-trained model for text generation\n",
        "qa_model = pipeline('question-answering', model='distilbert-base-cased-distilled-squad')\n",
        "\n",
        "# Generate an answer for a question based on the retrieved content\n",
        "def generate_answer(question, top_results):\n",
        "    context = ' '.join(top_results['text'].values)\n",
        "    answer = qa_model(question=question, context=context)\n",
        "    return answer['answer']\n",
        "\n",
        "# Example usage\n",
        "query = \" Clearfeed?\"\n",
        "top_results = search_top_k(query)\n",
        "generated_answer = generate_answer(query, top_results)\n",
        "print(\"Generated Answer:\", generated_answer)\n"
      ],
      "metadata": {
        "colab": {
          "base_uri": "https://localhost:8080/"
        },
        "id": "6_FwWM5Hg3jq",
        "outputId": "16a06d33-d2f7-4563-eddd-588a8db4e722"
      },
      "execution_count": 15,
      "outputs": [
        {
          "output_type": "stream",
          "name": "stdout",
          "text": [
            "Generated Answer: test drive\n"
          ]
        }
      ]
    },
    {
      "cell_type": "code",
      "source": [
        "def calculate_mrr():\n",
        "    mrr = 0\n",
        "    for i, row in qa_data.iterrows():\n",
        "        query = row['question']\n",
        "        target_url = row['url']\n",
        "        results = search_top_k(query)\n",
        "        for rank, url in enumerate(results['url']):\n",
        "            if url == target_url:\n",
        "                mrr += 1 / (rank + 1)\n",
        "                break\n",
        "    mrr /= len(qa_data)\n",
        "    print(f\"Mean Reciprocal Rank (MRR): {mrr:.4f}\")\n",
        "\n",
        "calculate_mrr()\n"
      ],
      "metadata": {
        "colab": {
          "base_uri": "https://localhost:8080/"
        },
        "id": "RKwcdwDXjax6",
        "outputId": "be0d42ea-7d17-4461-f5ff-0adb372186ff"
      },
      "execution_count": 16,
      "outputs": [
        {
          "output_type": "stream",
          "name": "stdout",
          "text": [
            "Mean Reciprocal Rank (MRR): 0.7442\n"
          ]
        }
      ]
    }
  ]
}